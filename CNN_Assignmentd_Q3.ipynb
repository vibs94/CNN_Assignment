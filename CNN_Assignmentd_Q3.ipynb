{
  "nbformat": 4,
  "nbformat_minor": 0,
  "metadata": {
    "colab": {
      "name": "CNN_Assignmentd_Q3",
      "provenance": []
    },
    "kernelspec": {
      "name": "python3",
      "display_name": "Python 3"
    }
  },
  "cells": [
    {
      "cell_type": "code",
      "metadata": {
        "id": "2yP_u-VQz2-9",
        "colab_type": "code",
        "colab": {}
      },
      "source": [
        "import numpy as np\n",
        "import tensorflow as tf\n",
        "import matplotlib.pyplot as plt\n",
        "from keras.models import Sequential\n",
        "from keras.layers import Dense, Conv2D, Dropout, Flatten, MaxPooling2D, UpSampling2D,Activation\n",
        "from keras.layers.normalization import BatchNormalization\n",
        "from sklearn.model_selection import train_test_split\n",
        "import torch\n",
        "from keras.preprocessing.image import ImageDataGenerator\n",
        "\n",
        "%matplotlib inline"
      ],
      "execution_count": 116,
      "outputs": []
    },
    {
      "cell_type": "code",
      "metadata": {
        "id": "7eA-GFAb4T76",
        "colab_type": "code",
        "colab": {
          "base_uri": "https://localhost:8080/",
          "height": 120
        },
        "outputId": "851568f8-c9f5-43b8-cb67-3d087f54405c"
      },
      "source": [
        "from google.colab import drive\n",
        "drive.mount('/content/gdrive')"
      ],
      "execution_count": 77,
      "outputs": [
        {
          "output_type": "stream",
          "text": [
            "Go to this URL in a browser: https://accounts.google.com/o/oauth2/auth?client_id=947318989803-6bn6qk8qdgf4n4g3pfee6491hc0brc4i.apps.googleusercontent.com&redirect_uri=urn%3aietf%3awg%3aoauth%3a2.0%3aoob&response_type=code&scope=email%20https%3a%2f%2fwww.googleapis.com%2fauth%2fdocs.test%20https%3a%2f%2fwww.googleapis.com%2fauth%2fdrive%20https%3a%2f%2fwww.googleapis.com%2fauth%2fdrive.photos.readonly%20https%3a%2f%2fwww.googleapis.com%2fauth%2fpeopleapi.readonly\n",
            "\n",
            "Enter your authorization code:\n",
            "··········\n",
            "Mounted at /content/gdrive\n"
          ],
          "name": "stdout"
        }
      ]
    },
    {
      "cell_type": "code",
      "metadata": {
        "id": "DsWSGKiO0Ebk",
        "colab_type": "code",
        "colab": {}
      },
      "source": [
        "(x_train, y_train), (x_test, y_test) = tf.keras.datasets.mnist.load_data()"
      ],
      "execution_count": 87,
      "outputs": []
    },
    {
      "cell_type": "markdown",
      "metadata": {
        "id": "i2ybV9CY0juY",
        "colab_type": "text"
      },
      "source": [
        "Dataset dimensions"
      ]
    },
    {
      "cell_type": "code",
      "metadata": {
        "id": "bt6Obs640VLD",
        "colab_type": "code",
        "colab": {
          "base_uri": "https://localhost:8080/",
          "height": 83
        },
        "outputId": "0e40fded-57c9-4b1e-a564-f0973db0c002"
      },
      "source": [
        "print(f'X_train: {x_train.shape}')\n",
        "print(f'Y_train: {y_train.shape}')\n",
        "print(f'X_test: {x_test.shape}')\n",
        "print(f'Y_test: {y_test.shape}')"
      ],
      "execution_count": 88,
      "outputs": [
        {
          "output_type": "stream",
          "text": [
            "X_train: (60000, 28, 28)\n",
            "Y_train: (60000,)\n",
            "X_test: (10000, 28, 28)\n",
            "Y_test: (10000,)\n"
          ],
          "name": "stdout"
        }
      ]
    },
    {
      "cell_type": "markdown",
      "metadata": {
        "id": "FK9yHj6Z1KRg",
        "colab_type": "text"
      },
      "source": [
        "Show sample data"
      ]
    },
    {
      "cell_type": "code",
      "metadata": {
        "id": "-5w-EG4w06Bg",
        "colab_type": "code",
        "colab": {
          "base_uri": "https://localhost:8080/",
          "height": 298
        },
        "outputId": "7503141c-b2da-43c4-80c6-51f345a88df3"
      },
      "source": [
        "image_index = 7777\n",
        "print(y_train[image_index]) \n",
        "plt.imshow(x_train[image_index], cmap='Greys')"
      ],
      "execution_count": 89,
      "outputs": [
        {
          "output_type": "stream",
          "text": [
            "8\n"
          ],
          "name": "stdout"
        },
        {
          "output_type": "execute_result",
          "data": {
            "text/plain": [
              "<matplotlib.image.AxesImage at 0x7f729a6baa58>"
            ]
          },
          "metadata": {
            "tags": []
          },
          "execution_count": 89
        },
        {
          "output_type": "display_data",
          "data": {
            "image/png": "[encoded data removed]",
            "text/plain": [
              "<Figure size 432x288 with 1 Axes>"
            ]
          },
          "metadata": {
            "tags": [],
            "needs_background": "light"
          }
        }
      ]
    },
    {
      "cell_type": "markdown",
      "metadata": {
        "id": "9RtEkVQiQDrk",
        "colab_type": "text"
      },
      "source": [
        "Add noice"
      ]
    },
    {
      "cell_type": "code",
      "metadata": {
        "id": "XpdEhGiCQCkw",
        "colab_type": "code",
        "colab": {}
      },
      "source": [
        "noise_factor = 0.25\n",
        "x_train_noice = x_train + noise_factor*np.random.normal(loc=0.0, scale=1.0, size=x_train.shape)\n",
        "x_test_noice = x_test + noise_factor*np.random.normal(loc=0.0, scale=1.0, size=x_test.shape)\n",
        "x_train_noice = np.clip(x_train_noice, 0., 1.)\n",
        "x_test_noice = np.clip(x_test_noice, 0., 1.)"
      ],
      "execution_count": 90,
      "outputs": []
    },
    {
      "cell_type": "code",
      "metadata": {
        "id": "ei2pvuFKQWlo",
        "colab_type": "code",
        "colab": {
          "base_uri": "https://localhost:8080/",
          "height": 298
        },
        "outputId": "11c78cfb-fe4e-4ad7-b724-6401e1cc0e54"
      },
      "source": [
        "print(y_train[image_index]) \n",
        "plt.imshow(x_train_noice[image_index], cmap='Greys')"
      ],
      "execution_count": 91,
      "outputs": [
        {
          "output_type": "stream",
          "text": [
            "8\n"
          ],
          "name": "stdout"
        },
        {
          "output_type": "execute_result",
          "data": {
            "text/plain": [
              "<matplotlib.image.AxesImage at 0x7f729a619588>"
            ]
          },
          "metadata": {
            "tags": []
          },
          "execution_count": 91
        },
        {
          "output_type": "display_data",
          "data": {
            "image/png": "[encoded data removed]",
            "text/plain": [
              "<Figure size 432x288 with 1 Axes>"
            ]
          },
          "metadata": {
            "tags": [],
            "needs_background": "light"
          }
        }
      ]
    },
    {
      "cell_type": "markdown",
      "metadata": {
        "id": "TFsDEY_D11dw",
        "colab_type": "text"
      },
      "source": [
        "Reshaping"
      ]
    },
    {
      "cell_type": "code",
      "metadata": {
        "id": "1yK75IVu12eY",
        "colab_type": "code",
        "colab": {}
      },
      "source": [
        "x_train = x_train.reshape(x_train.shape[0], 28, 28, 1)\n",
        "x_test = x_test.reshape(x_test.shape[0], 28, 28, 1)\n",
        "\n",
        "x_train_noice = x_train_noice.reshape(x_train_noice.shape[0], 28, 28, 1)\n",
        "x_test_noice = x_test_noice.reshape(x_test_noice.shape[0], 28, 28, 1)\n",
        "input_shape = (28, 28, 1)"
      ],
      "execution_count": 92,
      "outputs": []
    },
    {
      "cell_type": "markdown",
      "metadata": {
        "id": "-e8yM7Ez2Hnx",
        "colab_type": "text"
      },
      "source": [
        "Normalizing"
      ]
    },
    {
      "cell_type": "code",
      "metadata": {
        "id": "zKjYyI8l2KHj",
        "colab_type": "code",
        "colab": {
          "base_uri": "https://localhost:8080/",
          "height": 133
        },
        "outputId": "69414562-9a42-481f-cae5-ac2e7fac953a"
      },
      "source": [
        "x_train = x_train.astype('float32')\n",
        "x_test = x_test.astype('float32')\n",
        "x_train /= 255\n",
        "x_test /= 255\n",
        "print(f'x_train shape: {x_train.shape}')\n",
        "print(f'Number of images in x_train {x_train.shape[0]}')\n",
        "print(f'Number of images in x_test {x_test.shape[0]}')\n",
        "print('======================================')\n",
        "x_train_noice = x_train_noice.astype('float32')\n",
        "x_test_noice = x_test_noice.astype('float32')\n",
        "x_train_noice /= 255\n",
        "x_test_noice /= 255\n",
        "print(f'x_train_noice shape: {x_train_noice.shape}')\n",
        "print(f'Number of images in x_train_noice {x_train_noice.shape[0]}')\n",
        "print(f'Number of images in x_test_noice {x_test_noice.shape[0]}')"
      ],
      "execution_count": 93,
      "outputs": [
        {
          "output_type": "stream",
          "text": [
            "x_train shape: (60000, 28, 28, 1)\n",
            "Number of images in x_train 60000\n",
            "Number of images in x_test 10000\n",
            "======================================\n",
            "x_train_noice shape: (60000, 28, 28, 1)\n",
            "Number of images in x_train_noice 60000\n",
            "Number of images in x_test_noice 10000\n"
          ],
          "name": "stdout"
        }
      ]
    },
    {
      "cell_type": "markdown",
      "metadata": {
        "id": "sE9xUzYAjzcn",
        "colab_type": "text"
      },
      "source": [
        "Autoencider model"
      ]
    },
    {
      "cell_type": "code",
      "metadata": {
        "id": "nl8Mk7DUjyiv",
        "colab_type": "code",
        "colab": {}
      },
      "source": [
        "autoencoder = Sequential()\n",
        "#encode\n",
        "autoencoder.add(Conv2D(28, kernel_size=(7,7), activation=tf.nn.relu, padding='same', input_shape=input_shape))\n",
        "autoencoder.add(MaxPooling2D(pool_size=(2, 2)))\n",
        "autoencoder.add(Dropout(0.2))\n",
        "autoencoder.add(Conv2D(14, kernel_size=(7,7), activation=tf.nn.relu, padding='same'))\n",
        "autoencoder.add(MaxPooling2D(pool_size=(2, 2)))\n",
        "#decode\n",
        "autoencoder.add(Conv2D(14, kernel_size=(7,7), activation=tf.nn.relu, padding='same'))\n",
        "autoencoder.add(UpSampling2D())\n",
        "autoencoder.add(Dropout(0.2))\n",
        "autoencoder.add(Conv2D(28, kernel_size=(7,7), activation=tf.nn.relu, padding='same'))\n",
        "autoencoder.add(UpSampling2D())\n",
        "autoencoder.add(Conv2D(1, kernel_size=(7,7), activation=tf.nn.sigmoid, padding='same'))"
      ],
      "execution_count": 94,
      "outputs": []
    },
    {
      "cell_type": "markdown",
      "metadata": {
        "id": "lYavEJbWlEeF",
        "colab_type": "text"
      },
      "source": [
        "Compile autoencoder"
      ]
    },
    {
      "cell_type": "code",
      "metadata": {
        "id": "mI30OrdylDNN",
        "colab_type": "code",
        "colab": {
          "base_uri": "https://localhost:8080/",
          "height": 450
        },
        "outputId": "c143f36e-a0a5-49f8-a05e-78856e075eb7"
      },
      "source": [
        "autoencoder.compile(optimizer='adam', loss='binary_crossentropy')\n",
        "\n",
        "autoencoder.summary()"
      ],
      "execution_count": 96,
      "outputs": [
        {
          "output_type": "stream",
          "text": [
            "Model: \"sequential_6\"\n",
            "_________________________________________________________________\n",
            "Layer (type)                 Output Shape              Param #   \n",
            "=================================================================\n",
            "conv2d_14 (Conv2D)           (None, 28, 28, 28)        1400      \n",
            "_________________________________________________________________\n",
            "max_pooling2d_8 (MaxPooling2 (None, 14, 14, 28)        0         \n",
            "_________________________________________________________________\n",
            "conv2d_15 (Conv2D)           (None, 14, 14, 14)        19222     \n",
            "_________________________________________________________________\n",
            "max_pooling2d_9 (MaxPooling2 (None, 7, 7, 14)          0         \n",
            "_________________________________________________________________\n",
            "conv2d_16 (Conv2D)           (None, 7, 7, 14)          9618      \n",
            "_________________________________________________________________\n",
            "up_sampling2d_5 (UpSampling2 (None, 14, 14, 14)        0         \n",
            "_________________________________________________________________\n",
            "conv2d_17 (Conv2D)           (None, 14, 14, 28)        19236     \n",
            "_________________________________________________________________\n",
            "up_sampling2d_6 (UpSampling2 (None, 28, 28, 28)        0         \n",
            "_________________________________________________________________\n",
            "conv2d_18 (Conv2D)           (None, 28, 28, 1)         1373      \n",
            "=================================================================\n",
            "Total params: 50,849\n",
            "Trainable params: 50,849\n",
            "Non-trainable params: 0\n",
            "_________________________________________________________________\n"
          ],
          "name": "stdout"
        }
      ]
    },
    {
      "cell_type": "markdown",
      "metadata": {
        "id": "v2wKn3H6ln4-",
        "colab_type": "text"
      },
      "source": [
        "Denoising"
      ]
    },
    {
      "cell_type": "code",
      "metadata": {
        "id": "df_JVPLvlq7L",
        "colab_type": "code",
        "colab": {
          "base_uri": "https://localhost:8080/",
          "height": 1000
        },
        "outputId": "34030c47-5b56-4a0d-ab33-10ff845de824"
      },
      "source": [
        "X_noise_train, X_noise_valid, X_train, X_valid = train_test_split(x_train_noice, x_train, test_size=0.5, random_state=42, shuffle=True)\n",
        "\n",
        "history = autoencoder.fit(X_noise_train, X_train,\n",
        "                epochs=25,\n",
        "                shuffle=True,\n",
        "                validation_data=(X_noise_valid, X_valid)\n",
        "               )\n",
        "#save model\n",
        "model_save_name = 'autoencoder.pt'\n",
        "path = F\"/content/gdrive/My Drive/{model_save_name}\" \n",
        "autoencoder.save(path)\n",
        "\n",
        "#Visualize autoencoder results\n",
        "# Defining Figure\n",
        "f = plt.figure(figsize=(10,7))\n",
        "f.add_subplot()\n",
        "\n",
        "#Adding Subplot\n",
        "plt.plot(history.epoch, history.history['loss'], label = \"loss\") # Loss curve for training set\n",
        "plt.plot(history.epoch, history.history['val_loss'], label = \"val_loss\") # Loss curve for validation set\n",
        "\n",
        "plt.title(\"Loss Curve\",fontsize=18)\n",
        "plt.xlabel(\"Epochs\",fontsize=15)\n",
        "plt.ylabel(\"Loss\",fontsize=15)\n",
        "plt.grid(alpha=0.3)\n",
        "plt.legend()\n",
        "plt.savefig(\"Loss_curve.png\")\n",
        "plt.show()"
      ],
      "execution_count": 98,
      "outputs": [
        {
          "output_type": "stream",
          "text": [
            "Train on 30000 samples, validate on 30000 samples\n",
            "Epoch 1/25\n",
            "30000/30000 [==============================] - 336s 11ms/step - loss: 0.1764 - val_loss: 0.1038\n",
            "Epoch 2/25\n",
            "30000/30000 [==============================] - 329s 11ms/step - loss: 0.0969 - val_loss: 0.0984\n",
            "Epoch 3/25\n",
            "30000/30000 [==============================] - 339s 11ms/step - loss: 0.0900 - val_loss: 0.0882\n",
            "Epoch 4/25\n",
            "30000/30000 [==============================] - 341s 11ms/step - loss: 0.0871 - val_loss: 0.0856\n",
            "Epoch 5/25\n",
            "30000/30000 [==============================] - 357s 12ms/step - loss: 0.0854 - val_loss: 0.0850\n",
            "Epoch 6/25\n",
            "30000/30000 [==============================] - 328s 11ms/step - loss: 0.0843 - val_loss: 0.0835\n",
            "Epoch 7/25\n",
            "30000/30000 [==============================] - 327s 11ms/step - loss: 0.0834 - val_loss: 0.0830\n",
            "Epoch 8/25\n",
            "30000/30000 [==============================] - 330s 11ms/step - loss: 0.0828 - val_loss: 0.0822\n",
            "Epoch 9/25\n",
            "30000/30000 [==============================] - 347s 12ms/step - loss: 0.0823 - val_loss: 0.0820\n",
            "Epoch 10/25\n",
            "30000/30000 [==============================] - 329s 11ms/step - loss: 0.0818 - val_loss: 0.0813\n",
            "Epoch 11/25\n",
            "30000/30000 [==============================] - 331s 11ms/step - loss: 0.0815 - val_loss: 0.0811\n",
            "Epoch 12/25\n",
            "30000/30000 [==============================] - 336s 11ms/step - loss: 0.0811 - val_loss: 0.0808\n",
            "Epoch 13/25\n",
            "30000/30000 [==============================] - 337s 11ms/step - loss: 0.0808 - val_loss: 0.0804\n",
            "Epoch 14/25\n",
            "30000/30000 [==============================] - 338s 11ms/step - loss: 0.0805 - val_loss: 0.0804\n",
            "Epoch 15/25\n",
            "30000/30000 [==============================] - 331s 11ms/step - loss: 0.0804 - val_loss: 0.0808\n",
            "Epoch 16/25\n",
            "30000/30000 [==============================] - 330s 11ms/step - loss: 0.0802 - val_loss: 0.0798\n",
            "Epoch 17/25\n",
            "30000/30000 [==============================] - 336s 11ms/step - loss: 0.0800 - val_loss: 0.0797\n",
            "Epoch 18/25\n",
            "30000/30000 [==============================] - 337s 11ms/step - loss: 0.0799 - val_loss: 0.0796\n",
            "Epoch 19/25\n",
            "30000/30000 [==============================] - 345s 11ms/step - loss: 0.0797 - val_loss: 0.0795\n",
            "Epoch 20/25\n",
            "30000/30000 [==============================] - 327s 11ms/step - loss: 0.0795 - val_loss: 0.0794\n",
            "Epoch 21/25\n",
            "30000/30000 [==============================] - 349s 12ms/step - loss: 0.0795 - val_loss: 0.0798\n",
            "Epoch 22/25\n",
            "30000/30000 [==============================] - 359s 12ms/step - loss: 0.0793 - val_loss: 0.0792\n",
            "Epoch 23/25\n",
            "30000/30000 [==============================] - 365s 12ms/step - loss: 0.0792 - val_loss: 0.0791\n",
            "Epoch 24/25\n",
            "30000/30000 [==============================] - 358s 12ms/step - loss: 0.0791 - val_loss: 0.0792\n",
            "Epoch 25/25\n",
            "30000/30000 [==============================] - 353s 12ms/step - loss: 0.0791 - val_loss: 0.0793\n"
          ],
          "name": "stdout"
        },
        {
          "output_type": "display_data",
          "data": {
            "image/png": "[encoded data removed]",
            "text/plain": [
              "<Figure size 720x504 with 1 Axes>"
            ]
          },
          "metadata": {
            "tags": [],
            "needs_background": "light"
          }
        }
      ]
    },
    {
      "cell_type": "code",
      "metadata": {
        "id": "dSTbF_fruG98",
        "colab_type": "code",
        "colab": {}
      },
      "source": [
        "autoencoder1 = tf.keras.models.load_model(path)\n",
        "x_train_noice = autoencoder.predict(x_train_noice)\n",
        "x_test_noice = autoencoder.predict(x_test_noice)"
      ],
      "execution_count": 99,
      "outputs": []
    },
    {
      "cell_type": "code",
      "metadata": {
        "id": "_KC3ZXBEutUS",
        "colab_type": "code",
        "colab": {
          "base_uri": "https://localhost:8080/",
          "height": 298
        },
        "outputId": "6e80a7fd-9dfd-44bc-b40f-a1e503f14fe6"
      },
      "source": [
        "print(y_train[image_index]) \n",
        "plt.imshow(x_train_noice[image_index].reshape([28, 28]), cmap='Greys')"
      ],
      "execution_count": 100,
      "outputs": [
        {
          "output_type": "stream",
          "text": [
            "8\n"
          ],
          "name": "stdout"
        },
        {
          "output_type": "execute_result",
          "data": {
            "text/plain": [
              "<matplotlib.image.AxesImage at 0x7f729a257b00>"
            ]
          },
          "metadata": {
            "tags": []
          },
          "execution_count": 100
        },
        {
          "output_type": "display_data",
          "data": {
            "image/png": "[encoded data removed]",
            "text/plain": [
              "<Figure size 432x288 with 1 Axes>"
            ]
          },
          "metadata": {
            "tags": [],
            "needs_background": "light"
          }
        }
      ]
    },
    {
      "cell_type": "markdown",
      "metadata": {
        "id": "4nLK2PSD2o2x",
        "colab_type": "text"
      },
      "source": [
        "Model"
      ]
    },
    {
      "cell_type": "code",
      "metadata": {
        "id": "PMmZ_3pB2run",
        "colab_type": "code",
        "colab": {}
      },
      "source": [
        "model = Sequential()\n",
        "model.add(Conv2D(28, kernel_size=(7,7), activation=tf.nn.relu, input_shape=input_shape))\n",
        "model.add(MaxPooling2D(pool_size=(2, 2)))\n",
        "model.add(Conv2D(28, kernel_size=(3,3), activation=tf.nn.relu))\n",
        "model.add(MaxPooling2D(pool_size=(2, 2)))\n",
        "model.add(Flatten())\n",
        "model.add(Dense(128, activation=tf.nn.relu))\n",
        "model.add(Dropout(0.2))\n",
        "model.add(Dense(10,activation=tf.nn.softmax))"
      ],
      "execution_count": 139,
      "outputs": []
    },
    {
      "cell_type": "markdown",
      "metadata": {
        "id": "4QlAQlIZ2-Ma",
        "colab_type": "text"
      },
      "source": [
        "Compiling model"
      ]
    },
    {
      "cell_type": "code",
      "metadata": {
        "id": "LlDcr70Z3B4b",
        "colab_type": "code",
        "colab": {
          "base_uri": "https://localhost:8080/",
          "height": 350
        },
        "outputId": "f5000a61-d979-4029-ea83-8c1a8a85459d"
      },
      "source": [
        "model.compile(optimizer='adam', \n",
        "              loss='sparse_categorical_crossentropy', \n",
        "              metrics=['accuracy'])\n",
        "image_classifier_history = model.fit(x=x_train_noice,y=y_train, epochs=10)\n"
      ],
      "execution_count": 140,
      "outputs": [
        {
          "output_type": "stream",
          "text": [
            "Epoch 1/10\n",
            "60000/60000 [==============================] - 45s 755us/step - loss: 0.2039 - accuracy: 0.9370\n",
            "Epoch 2/10\n",
            "60000/60000 [==============================] - 46s 762us/step - loss: 0.0806 - accuracy: 0.9749\n",
            "Epoch 3/10\n",
            "60000/60000 [==============================] - 45s 749us/step - loss: 0.0617 - accuracy: 0.9811\n",
            "Epoch 4/10\n",
            "60000/60000 [==============================] - 45s 750us/step - loss: 0.0530 - accuracy: 0.9826\n",
            "Epoch 5/10\n",
            "60000/60000 [==============================] - 45s 758us/step - loss: 0.0458 - accuracy: 0.9858\n",
            "Epoch 6/10\n",
            "60000/60000 [==============================] - 45s 745us/step - loss: 0.0384 - accuracy: 0.9876\n",
            "Epoch 7/10\n",
            "60000/60000 [==============================] - 45s 744us/step - loss: 0.0342 - accuracy: 0.9887\n",
            "Epoch 8/10\n",
            "60000/60000 [==============================] - 44s 740us/step - loss: 0.0301 - accuracy: 0.9906\n",
            "Epoch 9/10\n",
            "60000/60000 [==============================] - 45s 746us/step - loss: 0.0272 - accuracy: 0.9911\n",
            "Epoch 10/10\n",
            "60000/60000 [==============================] - 44s 739us/step - loss: 0.0246 - accuracy: 0.9917\n"
          ],
          "name": "stdout"
        }
      ]
    },
    {
      "cell_type": "markdown",
      "metadata": {
        "id": "xsabnYkBs2Tq",
        "colab_type": "text"
      },
      "source": [
        "Visualize image classifier results"
      ]
    },
    {
      "cell_type": "code",
      "metadata": {
        "id": "MjgIr_jxs5cf",
        "colab_type": "code",
        "colab": {
          "base_uri": "https://localhost:8080/",
          "height": 467
        },
        "outputId": "d1d83c6f-9b7a-4876-cb1b-e3b183da4235"
      },
      "source": [
        "# Defining Figure\n",
        "f = plt.figure(figsize=(10,7))\n",
        "f.add_subplot()\n",
        "\n",
        "#Adding Subplot\n",
        "plt.plot(image_classifier_history.epoch, image_classifier_history.history['loss'], label = \"loss\") # Loss curve for training set\n",
        "plt.plot(image_classifier_history.epoch, image_classifier_history.history['accuracy'], label = \"accuracy\") # Loss curve for validation set\n",
        "\n",
        "plt.title(\"Loss Curve\",fontsize=18)\n",
        "plt.xlabel(\"Epochs\",fontsize=15)\n",
        "plt.ylabel(\"Loss\",fontsize=15)\n",
        "plt.grid(alpha=0.3)\n",
        "plt.legend()\n",
        "plt.savefig(\"Loss_curve.png\")\n",
        "plt.show()"
      ],
      "execution_count": 141,
      "outputs": [
        {
          "output_type": "display_data",
          "data": {
            "image/png": "[encoded data removed]",
            "text/plain": [
              "<Figure size 720x504 with 1 Axes>"
            ]
          },
          "metadata": {
            "tags": [],
            "needs_background": "light"
          }
        }
      ]
    },
    {
      "cell_type": "markdown",
      "metadata": {
        "id": "xRniMyZzF9rW",
        "colab_type": "text"
      },
      "source": [
        "Evaluate model"
      ]
    },
    {
      "cell_type": "code",
      "metadata": {
        "id": "6RtbBGmzF9AM",
        "colab_type": "code",
        "colab": {
          "base_uri": "https://localhost:8080/",
          "height": 67
        },
        "outputId": "11436873-0f36-48c8-9e02-ca21fca26f1a"
      },
      "source": [
        "score = model.evaluate(x_test_noice, y_test)\n",
        "print(f'Test score: {score[0]}')\n",
        "print(f'Test accuracy: {score[1]}')"
      ],
      "execution_count": 142,
      "outputs": [
        {
          "output_type": "stream",
          "text": [
            "10000/10000 [==============================] - 2s 220us/step\n",
            "Test score: 0.04593301337655648\n",
            "Test accuracy: 0.9866999983787537\n"
          ],
          "name": "stdout"
        }
      ]
    },
    {
      "cell_type": "markdown",
      "metadata": {
        "id": "GNd-xvt4HAl-",
        "colab_type": "text"
      },
      "source": [
        "Visualize results"
      ]
    },
    {
      "cell_type": "code",
      "metadata": {
        "id": "MuHiwN0rGbgY",
        "colab_type": "code",
        "colab": {}
      },
      "source": [
        "predicted_classes = model.predict_classes(x_test)\n",
        "\n",
        "correct_indices = np.nonzero(predicted_classes == y_test)[0]\n",
        "\n",
        "incorrect_indices = np.nonzero(predicted_classes != y_test)[0]"
      ],
      "execution_count": 104,
      "outputs": []
    },
    {
      "cell_type": "markdown",
      "metadata": {
        "id": "aaPE26e1HS4U",
        "colab_type": "text"
      },
      "source": [
        "Correct results"
      ]
    },
    {
      "cell_type": "code",
      "metadata": {
        "id": "NnCdKnm6GtrW",
        "colab_type": "code",
        "colab": {
          "base_uri": "https://localhost:8080/",
          "height": 297
        },
        "outputId": "9df49a8b-f9cf-43dc-db6a-664496c7e9da"
      },
      "source": [
        "plt.figure()\n",
        "for i, correct in enumerate(correct_indices[:9]):\n",
        "    plt.subplot(3,3,i+1)\n",
        "    plt.imshow(x_test[correct].reshape(28,28), cmap='gray', interpolation='none')\n",
        "    plt.title(\"Predicted {}, Class {}\".format(predicted_classes[correct], y_test[correct]))\n",
        "    \n",
        "plt.tight_layout()"
      ],
      "execution_count": 105,
      "outputs": [
        {
          "output_type": "display_data",
          "data": {
            "image/png": "[encoded data removed]",
            "text/plain": [
              "<Figure size 432x288 with 9 Axes>"
            ]
          },
          "metadata": {
            "tags": [],
            "needs_background": "light"
          }
        }
      ]
    },
    {
      "cell_type": "markdown",
      "metadata": {
        "id": "j7vIiAzcHNgf",
        "colab_type": "text"
      },
      "source": [
        "Incorrect results"
      ]
    },
    {
      "cell_type": "code",
      "metadata": {
        "id": "4O7IRInFHN_3",
        "colab_type": "code",
        "colab": {
          "base_uri": "https://localhost:8080/",
          "height": 297
        },
        "outputId": "b4f9f317-26b8-4e67-c47e-2f83b81f0ed2"
      },
      "source": [
        "plt.figure()\n",
        "for i, incorrect in enumerate(incorrect_indices[:9]):\n",
        "    plt.subplot(3,3,i+1)\n",
        "    plt.imshow(x_test[incorrect].reshape(28,28), cmap='gray', interpolation='none')\n",
        "    plt.title(\"Predicted {}, Class {}\".format(predicted_classes[incorrect], y_test[incorrect]))\n",
        "    \n",
        "plt.tight_layout()"
      ],
      "execution_count": 106,
      "outputs": [
        {
          "output_type": "display_data",
          "data": {
            "image/png": "[encoded data removed]",
            "text/plain": [
              "<Figure size 432x288 with 9 Axes>"
            ]
          },
          "metadata": {
            "tags": [],
            "needs_background": "light"
          }
        }
      ]
    }
  ]
}